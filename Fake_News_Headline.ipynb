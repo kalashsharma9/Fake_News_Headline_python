{
  "nbformat": 4,
  "nbformat_minor": 0,
  "metadata": {
    "colab": {
      "provenance": []
    },
    "kernelspec": {
      "name": "python3",
      "display_name": "Python 3"
    },
    "language_info": {
      "name": "python"
    }
  },
  "cells": [
    {
      "cell_type": "code",
      "execution_count": 1,
      "metadata": {
        "colab": {
          "base_uri": "https://localhost:8080/"
        },
        "id": "_rcMwPrgpKYb",
        "outputId": "4e355d6c-125f-44cc-f15c-0edacae05b76"
      },
      "outputs": [
        {
          "output_type": "stream",
          "name": "stdout",
          "text": [
            "\n",
            " Shah Rukh Khan Doing swach bharat abhiyan las vegas\n",
            "Do you want to print another fake headline?? (Yes/No): no\n",
            "I hope you had fun!, Good Bye\n"
          ]
        }
      ],
      "source": [
        "import random\n",
        "\n",
        "subjective = [\n",
        "\n",
        "              \"Shah Rukh Khan\",\n",
        "              \"Mukesh Ambani\",\n",
        "              \"Donald Trump\",\n",
        "              \"Cristopher Nolan\",\n",
        "              \"Akshay Kumart\",\n",
        "              \"MS dhoni\",\n",
        "              \"Ronaldo\",\n",
        "              \"messi\",\n",
        "              \"john Cena\",\n",
        "]\n",
        "\n",
        "activity = [\n",
        "\n",
        "            \"Dancing on the street\",\n",
        "            \"Playing football\",\n",
        "            \"Doing street fight\",\n",
        "            \"Eating waste\",\n",
        "            \"Doing swach bharat abhiyan\",\n",
        "            \"Cleaning clothes\",\n",
        "            \"Cooking sahi paneer\",\n",
        "            \"Celebrating diwali in\",\n",
        "            \"Visited at Taj Mahal\",\n",
        "]\n",
        "\n",
        "location = [\n",
        "\n",
        "            \"at delhi\",\n",
        "            \"in street\",\n",
        "            \"at Ghaziabad\",\n",
        "            \"in livingroom\",\n",
        "            \"in roadside\",\n",
        "            \"at night\",\n",
        "            \"in winters\",\n",
        "            \"in las vegas\",\n",
        "            \"at nagpur\",\n",
        "]\n",
        "\n",
        "\n",
        "while True:\n",
        "\n",
        "\n",
        "  sub = random.choice(subjective)\n",
        "  loc = random.choice(location)\n",
        "  act = random.choice(activity)\n",
        "\n",
        "  print(\"\\n\", f\"{sub} {act} {loc}\")\n",
        "\n",
        "  user_input = input(\"Do you want to print another fake headline?? (Yes/No): \").strip().lower()\n",
        "\n",
        "  if user_input == \"no\":\n",
        "    print(\"I hope you had fun!, Good Bye\")\n",
        "\n",
        "    break\n",
        "\n",
        "\n",
        "\n",
        "\n",
        "\n",
        "\n",
        "\n",
        "\n",
        "\n",
        "\n",
        "\n",
        "\n",
        "\n",
        "\n",
        "\n",
        "\n",
        "\n",
        "\n"
      ]
    }
  ]
}